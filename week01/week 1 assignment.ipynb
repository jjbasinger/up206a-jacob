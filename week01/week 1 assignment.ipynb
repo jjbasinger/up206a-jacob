{
 "cells": [
  {
   "cell_type": "markdown",
   "id": "390c0111-b692-4221-a2a9-6f25d1a0c8ae",
   "metadata": {},
   "source": [
    "# Data Exploration Assignment\n",
    "In this assignment I am importing and exploring data provided by the California Energy Commission about California's Electric Transmission Lines."
   ]
  },
  {
   "cell_type": "code",
   "execution_count": 3,
   "id": "1685f404-1d67-43ff-9ea9-e6518c8987fc",
   "metadata": {},
   "outputs": [],
   "source": [
    "import geopandas as gpd"
   ]
  },
  {
   "cell_type": "markdown",
   "id": "d8c73df8-11c1-4cdc-91ad-0b2f684bebdb",
   "metadata": {},
   "source": [
    "I first imported the geopandas module so that I could utilize my spatial dataset."
   ]
  },
  {
   "cell_type": "code",
   "execution_count": 4,
   "id": "96cefdb8-81ce-48e1-bef0-2e5c76f4492e",
   "metadata": {},
   "outputs": [],
   "source": [
    "transmission = gpd.read_file('transmissiongrid_shapefile.zip')"
   ]
  },
  {
   "cell_type": "markdown",
   "id": "a2804868-bd30-4cdc-80f7-bcda3c035852",
   "metadata": {},
   "source": [
    "I then imported my dataset, a shapefile showing Electric Transmission Lines in California, using the geopandas module.  My dataset is referred to as 'transmission' throughout the rest of my code."
   ]
  },
  {
   "cell_type": "code",
   "execution_count": 5,
   "id": "b923473c-fffe-4a5b-a5d7-831fce6d9b09",
   "metadata": {},
   "outputs": [
    {
     "data": {
      "text/plain": [
       "geopandas.geodataframe.GeoDataFrame"
      ]
     },
     "execution_count": 5,
     "metadata": {},
     "output_type": "execute_result"
    }
   ],
   "source": [
    "type(transmission)"
   ]
  },
  {
   "cell_type": "markdown",
   "id": "f761835d-97f0-41fe-a200-a2305f0715bc",
   "metadata": {},
   "source": [
    "I decided to run the type command above to esure that my data was imported correctly and to ensure that my data was spatial and compatible with the geopandas module.  My data type is GeoDataFrame."
   ]
  },
  {
   "cell_type": "markdown",
   "id": "0cec2a26-c5ad-46a7-be06-ce1e183dbfb0",
   "metadata": {},
   "source": [
    "I then ran the dtypes command to figure out what type of data is contained in each column of the dataset."
   ]
  },
  {
   "cell_type": "code",
   "execution_count": 6,
   "id": "08c81780-10de-45a2-b967-67f73d5ded4e",
   "metadata": {},
   "outputs": [
    {
     "data": {
      "text/plain": [
       "OBJECTID         int64\n",
       "Name            object\n",
       "kV              object\n",
       "kV_Sort        float64\n",
       "Owner           object\n",
       "Status          object\n",
       "Circuit         object\n",
       "Type            object\n",
       "Legend          object\n",
       "Length_Mil     float64\n",
       "Length_Fee      object\n",
       "TLine_Name      object\n",
       "Engineerin      object\n",
       "Engineer_1      object\n",
       "Structure_      object\n",
       "Structur_1      object\n",
       "Source          object\n",
       "Comments        object\n",
       "Creator         object\n",
       "Creator_Da      object\n",
       "Last_Edito      object\n",
       "Last_Edi_1      object\n",
       "GlobalID        object\n",
       "Shape__Len     float64\n",
       "geometry      geometry\n",
       "dtype: object"
      ]
     },
     "execution_count": 6,
     "metadata": {},
     "output_type": "execute_result"
    }
   ],
   "source": [
    "transmission.dtypes"
   ]
  },
  {
   "cell_type": "markdown",
   "id": "5bc90fb1-e2ad-4277-ad04-c8683106db0e",
   "metadata": {},
   "source": [
    "As you can see in the return from the dtypes command, most of the data in the dataset is of the object type."
   ]
  },
  {
   "cell_type": "markdown",
   "id": "f29584b4-09e1-4bdc-8bfd-ff580861d559",
   "metadata": {},
   "source": [
    "Then I ran the info command to get even more information about the dataset."
   ]
  },
  {
   "cell_type": "code",
   "execution_count": 7,
   "id": "de676598-fba0-4873-b201-0a8a0b2ab4a1",
   "metadata": {},
   "outputs": [
    {
     "data": {
      "text/plain": [
       "<bound method DataFrame.info of       OBJECTID        Name    kV  kV_Sort Owner       Status  \\\n",
       "0            1   AMP 115kV   115    115.0   AMP  Operational   \n",
       "1            2   AMP 115kV   115    115.0   AMP  Operational   \n",
       "2            3   AMP 115kV   115    115.0   AMP  Operational   \n",
       "3            4   AMP 115kV   115    115.0   AMP  Operational   \n",
       "4            5   ANZA 34kV    34     34.0  ANZA  Operational   \n",
       "...        ...         ...   ...      ...   ...          ...   \n",
       "6845      7637        None  None      NaN  None         None   \n",
       "6846      7638        None  None      NaN  None         None   \n",
       "6847      7639        None  None      NaN  None         None   \n",
       "6848      7640  Stanislaus  None      NaN  None         None   \n",
       "6849      7650        None   115    115.0   TID  Operational   \n",
       "\n",
       "               Circuit  Type           Legend  Length_Mil  ... Structur_1  \\\n",
       "0               Single    OH  Other_110_161kV         2.0  ...       None   \n",
       "1               Single    OH  Other_110_161kV         3.0  ...       None   \n",
       "2               Single    OH  Other_110_161kV         1.0  ...       None   \n",
       "3               Single    OH  Other_110_161kV         1.0  ...       None   \n",
       "4               Single    OH    Other_33_92kV        24.0  ...       None   \n",
       "...                ...   ...              ...         ...  ...        ...   \n",
       "6845  Tuolumne-Roeding  None             None         NaN  ...       None   \n",
       "6846  Tuolumne-Roeding  None             None         NaN  ...       None   \n",
       "6847   Hughson-Grayson  None             None         NaN  ...       None   \n",
       "6848              None  None             None         NaN  ...       None   \n",
       "6849            Double  None             None         NaN  ...       None   \n",
       "\n",
       "            Source              Comments Creator  Creator_Da       Last_Edito  \\\n",
       "0              AMP                  None  FTHONG  2012-08-31  SVC_AGIS_SQLADM   \n",
       "1              AMP                  None  FTHONG  2012-08-31  SVC_AGIS_SQLADM   \n",
       "2              AMP                  None  FTHONG  2012-08-31  SVC_AGIS_SQLADM   \n",
       "3              AMP  Partially underwater  FTHONG  2012-08-31  SVC_AGIS_SQLADM   \n",
       "4     City of Anza                  None  FTHONG  2012-08-24  SVC_AGIS_SQLADM   \n",
       "...            ...                   ...     ...         ...              ...   \n",
       "6845          None                   TID    None  1970-01-01             None   \n",
       "6846          None                   TID    None  1970-01-01             None   \n",
       "6847          None                  None    None  1970-01-01             None   \n",
       "6848          None                  None    None  1970-01-01             None   \n",
       "6849           TID                  None    None  1970-01-01             None   \n",
       "\n",
       "      Last_Edi_1                              GlobalID     Shape__Len  \\\n",
       "0     2016-04-25  25079e29-0a11-4bbb-839a-61616871d910    4198.109765   \n",
       "1     2016-04-25  a31ca387-0f42-4e54-bea4-4767a77c8351    6368.076989   \n",
       "2     2016-04-25  0fa76fc2-0381-471d-8c24-7f22a3bfc15a    1470.170054   \n",
       "3     2016-04-25  957cb685-7311-46d7-8fdd-0c600f4fc1a5    2368.338130   \n",
       "4     2016-04-25  4323ce1c-f66a-49a3-b607-94dc031f9927   46585.778220   \n",
       "...          ...                                   ...            ...   \n",
       "6845  1970-01-01  4882bf3d-cce1-4c0e-8007-faf8ad06ca19    1839.419982   \n",
       "6846  1970-01-01  56041b6d-a3ff-464a-b354-ae83ec05a9c1    1632.145044   \n",
       "6847  1970-01-01  1229be82-d815-41da-8f5b-6aa06d98da91   22670.509677   \n",
       "6848  1970-01-01  412dd843-91d3-4c11-a536-0c4e0a9f8cde  473968.238743   \n",
       "6849  1970-01-01  58f69f78-13aa-436d-9cb4-3a691f040438   22670.509677   \n",
       "\n",
       "                                               geometry  \n",
       "0     LINESTRING (-13608018.951 4547326.915, -136080...  \n",
       "1     LINESTRING (-13608044.414 4547272.768, -136080...  \n",
       "2     LINESTRING (-13613422.397 4548276.164, -136134...  \n",
       "3     LINESTRING (-13613131.635 4549619.954, -136131...  \n",
       "4     LINESTRING (-12994452.454 3989231.906, -129944...  \n",
       "...                                                 ...  \n",
       "6845  LINESTRING (-13456075.142 4520286.452, -134542...  \n",
       "6846  LINESTRING (-13454234.007 4520285.893, -134537...  \n",
       "6847  LINESTRING (-13452614.507 4522349.589, -134526...  \n",
       "6848  LINESTRING (-13430994.121 4555638.691, -134309...  \n",
       "6849  LINESTRING (-13452614.507 4522349.589, -134526...  \n",
       "\n",
       "[6850 rows x 25 columns]>"
      ]
     },
     "execution_count": 7,
     "metadata": {},
     "output_type": "execute_result"
    }
   ],
   "source": [
    "transmission.info"
   ]
  },
  {
   "cell_type": "markdown",
   "id": "b77d5d02-2063-4481-a419-ef02ea92f760",
   "metadata": {},
   "source": [
    "The info command returned much more information, giving examples of data in each column at the beginning and the end of the dataset.  I then ran the shape command:"
   ]
  },
  {
   "cell_type": "code",
   "execution_count": 8,
   "id": "b0820801-bbe7-4cfd-8d39-fb16ca79f0ce",
   "metadata": {},
   "outputs": [
    {
     "data": {
      "text/plain": [
       "(6850, 25)"
      ]
     },
     "execution_count": 8,
     "metadata": {},
     "output_type": "execute_result"
    }
   ],
   "source": [
    "transmission.shape"
   ]
  },
  {
   "cell_type": "markdown",
   "id": "1744fc34-305d-443f-af7a-2b0ce66b8295",
   "metadata": {},
   "source": [
    "The above shape command shows how many rows and columns there are in the transmission data set.  Here. there are 6850 rows and 25 columns."
   ]
  },
  {
   "cell_type": "code",
   "execution_count": 9,
   "id": "2d84a0e1-abca-44a7-9914-5849734ac978",
   "metadata": {},
   "outputs": [
    {
     "data": {
      "text/html": [
       "<div>\n",
       "<style scoped>\n",
       "    .dataframe tbody tr th:only-of-type {\n",
       "        vertical-align: middle;\n",
       "    }\n",
       "\n",
       "    .dataframe tbody tr th {\n",
       "        vertical-align: top;\n",
       "    }\n",
       "\n",
       "    .dataframe thead th {\n",
       "        text-align: right;\n",
       "    }\n",
       "</style>\n",
       "<table border=\"1\" class=\"dataframe\">\n",
       "  <thead>\n",
       "    <tr style=\"text-align: right;\">\n",
       "      <th></th>\n",
       "      <th>OBJECTID</th>\n",
       "      <th>Name</th>\n",
       "      <th>kV</th>\n",
       "      <th>kV_Sort</th>\n",
       "      <th>Owner</th>\n",
       "      <th>Status</th>\n",
       "      <th>Circuit</th>\n",
       "      <th>Type</th>\n",
       "      <th>Legend</th>\n",
       "      <th>Length_Mil</th>\n",
       "      <th>...</th>\n",
       "      <th>Structur_1</th>\n",
       "      <th>Source</th>\n",
       "      <th>Comments</th>\n",
       "      <th>Creator</th>\n",
       "      <th>Creator_Da</th>\n",
       "      <th>Last_Edito</th>\n",
       "      <th>Last_Edi_1</th>\n",
       "      <th>GlobalID</th>\n",
       "      <th>Shape__Len</th>\n",
       "      <th>geometry</th>\n",
       "    </tr>\n",
       "  </thead>\n",
       "  <tbody>\n",
       "    <tr>\n",
       "      <th>0</th>\n",
       "      <td>1</td>\n",
       "      <td>AMP 115kV</td>\n",
       "      <td>115</td>\n",
       "      <td>115.0</td>\n",
       "      <td>AMP</td>\n",
       "      <td>Operational</td>\n",
       "      <td>Single</td>\n",
       "      <td>OH</td>\n",
       "      <td>Other_110_161kV</td>\n",
       "      <td>2.0</td>\n",
       "      <td>...</td>\n",
       "      <td>None</td>\n",
       "      <td>AMP</td>\n",
       "      <td>None</td>\n",
       "      <td>FTHONG</td>\n",
       "      <td>2012-08-31</td>\n",
       "      <td>SVC_AGIS_SQLADM</td>\n",
       "      <td>2016-04-25</td>\n",
       "      <td>25079e29-0a11-4bbb-839a-61616871d910</td>\n",
       "      <td>4198.109765</td>\n",
       "      <td>LINESTRING (-13608018.951 4547326.915, -136080...</td>\n",
       "    </tr>\n",
       "    <tr>\n",
       "      <th>1</th>\n",
       "      <td>2</td>\n",
       "      <td>AMP 115kV</td>\n",
       "      <td>115</td>\n",
       "      <td>115.0</td>\n",
       "      <td>AMP</td>\n",
       "      <td>Operational</td>\n",
       "      <td>Single</td>\n",
       "      <td>OH</td>\n",
       "      <td>Other_110_161kV</td>\n",
       "      <td>3.0</td>\n",
       "      <td>...</td>\n",
       "      <td>None</td>\n",
       "      <td>AMP</td>\n",
       "      <td>None</td>\n",
       "      <td>FTHONG</td>\n",
       "      <td>2012-08-31</td>\n",
       "      <td>SVC_AGIS_SQLADM</td>\n",
       "      <td>2016-04-25</td>\n",
       "      <td>a31ca387-0f42-4e54-bea4-4767a77c8351</td>\n",
       "      <td>6368.076989</td>\n",
       "      <td>LINESTRING (-13608044.414 4547272.768, -136080...</td>\n",
       "    </tr>\n",
       "    <tr>\n",
       "      <th>2</th>\n",
       "      <td>3</td>\n",
       "      <td>AMP 115kV</td>\n",
       "      <td>115</td>\n",
       "      <td>115.0</td>\n",
       "      <td>AMP</td>\n",
       "      <td>Operational</td>\n",
       "      <td>Single</td>\n",
       "      <td>OH</td>\n",
       "      <td>Other_110_161kV</td>\n",
       "      <td>1.0</td>\n",
       "      <td>...</td>\n",
       "      <td>None</td>\n",
       "      <td>AMP</td>\n",
       "      <td>None</td>\n",
       "      <td>FTHONG</td>\n",
       "      <td>2012-08-31</td>\n",
       "      <td>SVC_AGIS_SQLADM</td>\n",
       "      <td>2016-04-25</td>\n",
       "      <td>0fa76fc2-0381-471d-8c24-7f22a3bfc15a</td>\n",
       "      <td>1470.170054</td>\n",
       "      <td>LINESTRING (-13613422.397 4548276.164, -136134...</td>\n",
       "    </tr>\n",
       "    <tr>\n",
       "      <th>3</th>\n",
       "      <td>4</td>\n",
       "      <td>AMP 115kV</td>\n",
       "      <td>115</td>\n",
       "      <td>115.0</td>\n",
       "      <td>AMP</td>\n",
       "      <td>Operational</td>\n",
       "      <td>Single</td>\n",
       "      <td>OH</td>\n",
       "      <td>Other_110_161kV</td>\n",
       "      <td>1.0</td>\n",
       "      <td>...</td>\n",
       "      <td>None</td>\n",
       "      <td>AMP</td>\n",
       "      <td>Partially underwater</td>\n",
       "      <td>FTHONG</td>\n",
       "      <td>2012-08-31</td>\n",
       "      <td>SVC_AGIS_SQLADM</td>\n",
       "      <td>2016-04-25</td>\n",
       "      <td>957cb685-7311-46d7-8fdd-0c600f4fc1a5</td>\n",
       "      <td>2368.338130</td>\n",
       "      <td>LINESTRING (-13613131.635 4549619.954, -136131...</td>\n",
       "    </tr>\n",
       "    <tr>\n",
       "      <th>4</th>\n",
       "      <td>5</td>\n",
       "      <td>ANZA 34kV</td>\n",
       "      <td>34</td>\n",
       "      <td>34.0</td>\n",
       "      <td>ANZA</td>\n",
       "      <td>Operational</td>\n",
       "      <td>Single</td>\n",
       "      <td>OH</td>\n",
       "      <td>Other_33_92kV</td>\n",
       "      <td>24.0</td>\n",
       "      <td>...</td>\n",
       "      <td>None</td>\n",
       "      <td>City of Anza</td>\n",
       "      <td>None</td>\n",
       "      <td>FTHONG</td>\n",
       "      <td>2012-08-24</td>\n",
       "      <td>SVC_AGIS_SQLADM</td>\n",
       "      <td>2016-04-25</td>\n",
       "      <td>4323ce1c-f66a-49a3-b607-94dc031f9927</td>\n",
       "      <td>46585.778220</td>\n",
       "      <td>LINESTRING (-12994452.454 3989231.906, -129944...</td>\n",
       "    </tr>\n",
       "  </tbody>\n",
       "</table>\n",
       "<p>5 rows × 25 columns</p>\n",
       "</div>"
      ],
      "text/plain": [
       "   OBJECTID       Name   kV  kV_Sort Owner       Status Circuit Type  \\\n",
       "0         1  AMP 115kV  115    115.0   AMP  Operational  Single   OH   \n",
       "1         2  AMP 115kV  115    115.0   AMP  Operational  Single   OH   \n",
       "2         3  AMP 115kV  115    115.0   AMP  Operational  Single   OH   \n",
       "3         4  AMP 115kV  115    115.0   AMP  Operational  Single   OH   \n",
       "4         5  ANZA 34kV   34     34.0  ANZA  Operational  Single   OH   \n",
       "\n",
       "            Legend  Length_Mil  ... Structur_1        Source  \\\n",
       "0  Other_110_161kV         2.0  ...       None           AMP   \n",
       "1  Other_110_161kV         3.0  ...       None           AMP   \n",
       "2  Other_110_161kV         1.0  ...       None           AMP   \n",
       "3  Other_110_161kV         1.0  ...       None           AMP   \n",
       "4    Other_33_92kV        24.0  ...       None  City of Anza   \n",
       "\n",
       "               Comments Creator  Creator_Da       Last_Edito  Last_Edi_1  \\\n",
       "0                  None  FTHONG  2012-08-31  SVC_AGIS_SQLADM  2016-04-25   \n",
       "1                  None  FTHONG  2012-08-31  SVC_AGIS_SQLADM  2016-04-25   \n",
       "2                  None  FTHONG  2012-08-31  SVC_AGIS_SQLADM  2016-04-25   \n",
       "3  Partially underwater  FTHONG  2012-08-31  SVC_AGIS_SQLADM  2016-04-25   \n",
       "4                  None  FTHONG  2012-08-24  SVC_AGIS_SQLADM  2016-04-25   \n",
       "\n",
       "                               GlobalID    Shape__Len  \\\n",
       "0  25079e29-0a11-4bbb-839a-61616871d910   4198.109765   \n",
       "1  a31ca387-0f42-4e54-bea4-4767a77c8351   6368.076989   \n",
       "2  0fa76fc2-0381-471d-8c24-7f22a3bfc15a   1470.170054   \n",
       "3  957cb685-7311-46d7-8fdd-0c600f4fc1a5   2368.338130   \n",
       "4  4323ce1c-f66a-49a3-b607-94dc031f9927  46585.778220   \n",
       "\n",
       "                                            geometry  \n",
       "0  LINESTRING (-13608018.951 4547326.915, -136080...  \n",
       "1  LINESTRING (-13608044.414 4547272.768, -136080...  \n",
       "2  LINESTRING (-13613422.397 4548276.164, -136134...  \n",
       "3  LINESTRING (-13613131.635 4549619.954, -136131...  \n",
       "4  LINESTRING (-12994452.454 3989231.906, -129944...  \n",
       "\n",
       "[5 rows x 25 columns]"
      ]
     },
     "execution_count": 9,
     "metadata": {},
     "output_type": "execute_result"
    }
   ],
   "source": [
    "transmission.head()"
   ]
  },
  {
   "cell_type": "markdown",
   "id": "f917ed1a-aadd-4dad-8eaa-8de202269cec",
   "metadata": {},
   "source": [
    "I also ran the head command above, which returns the first five rows in the transmission data set (the head of the data)."
   ]
  },
  {
   "cell_type": "markdown",
   "id": "e01bf572-c963-4d3a-ac2a-51c5a37a4c21",
   "metadata": {},
   "source": [
    "One of the interesting commands in this assignment was the plot command, which returns a graph of the geometry included in the transmission data set.  The graph can be seen below."
   ]
  },
  {
   "cell_type": "code",
   "execution_count": 10,
   "id": "8e15186b-984e-41ee-b512-26cc2300e9ef",
   "metadata": {},
   "outputs": [
    {
     "data": {
      "text/plain": [
       "<AxesSubplot:>"
      ]
     },
     "execution_count": 10,
     "metadata": {},
     "output_type": "execute_result"
    },
    {
     "data": {
      "image/png": "[encoded data removed]",
      "text/plain": [
       "<Figure size 432x288 with 1 Axes>"
      ]
     },
     "metadata": {
      "needs_background": "light"
     },
     "output_type": "display_data"
    }
   ],
   "source": [
    "transmission.plot()"
   ]
  },
  {
   "cell_type": "markdown",
   "id": "a88e635c-f5ee-4c6f-a8df-795f1e24022c",
   "metadata": {},
   "source": [
    "As shown by the output, the plot command returns a graph of lines that depict the transmission network in California.  However, since there is no base map, the lines are just plotted on a regular graph (it just happens to look like California due to the layout of the transmission grid)."
   ]
  },
  {
   "cell_type": "markdown",
   "id": "f40c58b0-d4a8-47a4-81ea-c177eddb3217",
   "metadata": {},
   "source": [
    "The value_counts() command returns the number of each option that occurs per column."
   ]
  },
  {
   "cell_type": "code",
   "execution_count": 11,
   "id": "cc32a910-d0f1-4d27-b370-aa73d4ecf96b",
   "metadata": {},
   "outputs": [
    {
     "data": {
      "text/plain": [
       "Operational    6802\n",
       "Unknown          24\n",
       "Proposed         14\n",
       "Closed            1\n",
       "Name: Status, dtype: int64"
      ]
     },
     "execution_count": 11,
     "metadata": {},
     "output_type": "execute_result"
    }
   ],
   "source": [
    "transmission['Status'].value_counts()"
   ]
  },
  {
   "cell_type": "markdown",
   "id": "9c1c7388-9659-4ebb-af28-471ee55b37d2",
   "metadata": {},
   "source": [
    "Here, I ran the value_counts command on the Status column, which contains the operational status of each individual data entry.  The command returned the number of data in each category.  As applied to this dataset, the value counts command on the status column returns information about how many of the transmission lines are operational, proposed, closed, or of unkown status."
   ]
  },
  {
   "cell_type": "code",
   "execution_count": 12,
   "id": "0c23379d-38a2-466a-bbac-0d6eb8dc85c3",
   "metadata": {},
   "outputs": [
    {
     "data": {
      "text/plain": [
       "['OBJECTID',\n",
       " 'Name',\n",
       " 'kV',\n",
       " 'kV_Sort',\n",
       " 'Owner',\n",
       " 'Status',\n",
       " 'Circuit',\n",
       " 'Type',\n",
       " 'Legend',\n",
       " 'Length_Mil',\n",
       " 'Length_Fee',\n",
       " 'TLine_Name',\n",
       " 'Engineerin',\n",
       " 'Engineer_1',\n",
       " 'Structure_',\n",
       " 'Structur_1',\n",
       " 'Source',\n",
       " 'Comments',\n",
       " 'Creator',\n",
       " 'Creator_Da',\n",
       " 'Last_Edito',\n",
       " 'Last_Edi_1',\n",
       " 'GlobalID',\n",
       " 'Shape__Len',\n",
       " 'geometry']"
      ]
     },
     "execution_count": 12,
     "metadata": {},
     "output_type": "execute_result"
    }
   ],
   "source": [
    "transmission.columns.to_list()"
   ]
  },
  {
   "cell_type": "markdown",
   "id": "9b8a9a13-9f24-4379-93c2-8518b77562e2",
   "metadata": {},
   "source": [
    "This column.to_list() command just makes a list of all the column names.  I think this is helpful to just see what categories there are in your dataset."
   ]
  },
  {
   "cell_type": "markdown",
   "id": "c54af8c1-2101-4a51-bfb0-f341aa90587b",
   "metadata": {},
   "source": [
    "Then I decided to query the data based on which transmission lines are proposed.  To do so I used the query command and sorted the data using the status column, selecting only those that have the proposed status."
   ]
  },
  {
   "cell_type": "code",
   "execution_count": 13,
   "id": "227bc8e1-a6b6-4e31-a93a-1f7fe49b2d41",
   "metadata": {},
   "outputs": [
    {
     "data": {
      "text/html": [
       "<div>\n",
       "<style scoped>\n",
       "    .dataframe tbody tr th:only-of-type {\n",
       "        vertical-align: middle;\n",
       "    }\n",
       "\n",
       "    .dataframe tbody tr th {\n",
       "        vertical-align: top;\n",
       "    }\n",
       "\n",
       "    .dataframe thead th {\n",
       "        text-align: right;\n",
       "    }\n",
       "</style>\n",
       "<table border=\"1\" class=\"dataframe\">\n",
       "  <thead>\n",
       "    <tr style=\"text-align: right;\">\n",
       "      <th></th>\n",
       "      <th>OBJECTID</th>\n",
       "      <th>Name</th>\n",
       "      <th>kV</th>\n",
       "      <th>kV_Sort</th>\n",
       "      <th>Owner</th>\n",
       "      <th>Status</th>\n",
       "      <th>Circuit</th>\n",
       "      <th>Type</th>\n",
       "      <th>Legend</th>\n",
       "      <th>Length_Mil</th>\n",
       "      <th>...</th>\n",
       "      <th>Structur_1</th>\n",
       "      <th>Source</th>\n",
       "      <th>Comments</th>\n",
       "      <th>Creator</th>\n",
       "      <th>Creator_Da</th>\n",
       "      <th>Last_Edito</th>\n",
       "      <th>Last_Edi_1</th>\n",
       "      <th>GlobalID</th>\n",
       "      <th>Shape__Len</th>\n",
       "      <th>geometry</th>\n",
       "    </tr>\n",
       "  </thead>\n",
       "  <tbody>\n",
       "    <tr>\n",
       "      <th>104</th>\n",
       "      <td>105</td>\n",
       "      <td>ESJ 250kV</td>\n",
       "      <td>250</td>\n",
       "      <td>250.0</td>\n",
       "      <td>ESJ</td>\n",
       "      <td>Proposed</td>\n",
       "      <td>Single</td>\n",
       "      <td>OH</td>\n",
       "      <td>Other_200_287kV</td>\n",
       "      <td>1.0</td>\n",
       "      <td>...</td>\n",
       "      <td>None</td>\n",
       "      <td>DUDEK</td>\n",
       "      <td>To be operated by fall 2014</td>\n",
       "      <td>FTHONG</td>\n",
       "      <td>2014-06-09</td>\n",
       "      <td>SVC_AGIS_SQLADM</td>\n",
       "      <td>2016-04-25</td>\n",
       "      <td>1d187fe9-0e0f-4eea-a808-0c936f9189ad</td>\n",
       "      <td>2612.423122</td>\n",
       "      <td>LINESTRING (-12926715.053 3845826.211, -129261...</td>\n",
       "    </tr>\n",
       "    <tr>\n",
       "      <th>105</th>\n",
       "      <td>106</td>\n",
       "      <td>ESJ 500kV</td>\n",
       "      <td>500</td>\n",
       "      <td>500.0</td>\n",
       "      <td>ESJ</td>\n",
       "      <td>Proposed</td>\n",
       "      <td>Single</td>\n",
       "      <td>OH</td>\n",
       "      <td>Other_345_500kV</td>\n",
       "      <td>1.0</td>\n",
       "      <td>...</td>\n",
       "      <td>None</td>\n",
       "      <td>DUDEK</td>\n",
       "      <td>To be operated by fall 2014</td>\n",
       "      <td>FTHONG</td>\n",
       "      <td>2014-06-09</td>\n",
       "      <td>SVC_AGIS_SQLADM</td>\n",
       "      <td>2016-04-25</td>\n",
       "      <td>32a2a0a7-f1ea-4289-bacb-0d7f2f8393b4</td>\n",
       "      <td>1190.078610</td>\n",
       "      <td>LINESTRING (-12926557.168 3845792.221, -129262...</td>\n",
       "    </tr>\n",
       "    <tr>\n",
       "      <th>294</th>\n",
       "      <td>295</td>\n",
       "      <td>KMPUD 34.5</td>\n",
       "      <td>34.5</td>\n",
       "      <td>34.5</td>\n",
       "      <td>KMPUD</td>\n",
       "      <td>Proposed</td>\n",
       "      <td>Single</td>\n",
       "      <td>OH</td>\n",
       "      <td>Other_33_92kV</td>\n",
       "      <td>26.0</td>\n",
       "      <td>...</td>\n",
       "      <td>None</td>\n",
       "      <td>http://www.fs.fed.us/r5/eldorado/</td>\n",
       "      <td>None</td>\n",
       "      <td>FTHONG</td>\n",
       "      <td>2011-04-13</td>\n",
       "      <td>SVC_AGIS_SQLADM</td>\n",
       "      <td>2016-04-25</td>\n",
       "      <td>5586545a-acfe-4487-8011-61a7106871d6</td>\n",
       "      <td>53860.923428</td>\n",
       "      <td>LINESTRING (-13383861.304 4653984.255, -133840...</td>\n",
       "    </tr>\n",
       "    <tr>\n",
       "      <th>398</th>\n",
       "      <td>399</td>\n",
       "      <td>LADWP 230kV</td>\n",
       "      <td>230</td>\n",
       "      <td>230.0</td>\n",
       "      <td>LADWP</td>\n",
       "      <td>Proposed</td>\n",
       "      <td>Single</td>\n",
       "      <td>OH</td>\n",
       "      <td>LADWP_220_287kV</td>\n",
       "      <td>3.0</td>\n",
       "      <td>...</td>\n",
       "      <td>None</td>\n",
       "      <td>CEC AFC</td>\n",
       "      <td>None</td>\n",
       "      <td>FTHONG</td>\n",
       "      <td>2010-12-15</td>\n",
       "      <td>SVC_AGIS_SQLADM</td>\n",
       "      <td>2016-04-25</td>\n",
       "      <td>de12b0fa-f4d8-496b-9a30-be951adec452</td>\n",
       "      <td>6172.364975</td>\n",
       "      <td>LINESTRING (-13141531.549 4196934.238, -131406...</td>\n",
       "    </tr>\n",
       "    <tr>\n",
       "      <th>399</th>\n",
       "      <td>400</td>\n",
       "      <td>LADWP 230kV</td>\n",
       "      <td>230</td>\n",
       "      <td>230.0</td>\n",
       "      <td>LADWP</td>\n",
       "      <td>Proposed</td>\n",
       "      <td>Single</td>\n",
       "      <td>OH</td>\n",
       "      <td>LADWP_220_287kV</td>\n",
       "      <td>1.0</td>\n",
       "      <td>...</td>\n",
       "      <td>None</td>\n",
       "      <td>CEC AFC</td>\n",
       "      <td>None</td>\n",
       "      <td>FTHONG</td>\n",
       "      <td>2010-12-15</td>\n",
       "      <td>SVC_AGIS_SQLADM</td>\n",
       "      <td>2016-04-25</td>\n",
       "      <td>424be83e-2446-496b-a47d-9771212ab3ee</td>\n",
       "      <td>2196.234675</td>\n",
       "      <td>LINESTRING (-13140976.994 4198182.894, -131397...</td>\n",
       "    </tr>\n",
       "    <tr>\n",
       "      <th>429</th>\n",
       "      <td>430</td>\n",
       "      <td>LADWP 230kV</td>\n",
       "      <td>230</td>\n",
       "      <td>230.0</td>\n",
       "      <td>LADWP</td>\n",
       "      <td>Proposed</td>\n",
       "      <td>Single</td>\n",
       "      <td>OH</td>\n",
       "      <td>LADWP_220_287kV</td>\n",
       "      <td>236.0</td>\n",
       "      <td>...</td>\n",
       "      <td>None</td>\n",
       "      <td>Digital Globe,  VIRTUAL EARTH BIRD'S EYE</td>\n",
       "      <td>None</td>\n",
       "      <td>FTHONG</td>\n",
       "      <td>2015-09-16</td>\n",
       "      <td>SVC_AGIS_SQLADM</td>\n",
       "      <td>2016-04-25</td>\n",
       "      <td>d48c39f9-ae31-4252-b924-4dc137a71323</td>\n",
       "      <td>7823.036043</td>\n",
       "      <td>LINESTRING (-13193057.154 4087862.826, -131926...</td>\n",
       "    </tr>\n",
       "    <tr>\n",
       "      <th>3403</th>\n",
       "      <td>3404</td>\n",
       "      <td>PG&amp;E 66kV</td>\n",
       "      <td>66</td>\n",
       "      <td>66.0</td>\n",
       "      <td>PG&amp;E</td>\n",
       "      <td>Proposed</td>\n",
       "      <td>Single</td>\n",
       "      <td>OH</td>\n",
       "      <td>PG&amp;E_60_70kV</td>\n",
       "      <td>2.0</td>\n",
       "      <td>...</td>\n",
       "      <td>None</td>\n",
       "      <td>SCE</td>\n",
       "      <td>None</td>\n",
       "      <td>FTHONG</td>\n",
       "      <td>2011-01-11</td>\n",
       "      <td>SVC_AGIS_SQLADM</td>\n",
       "      <td>2016-04-25</td>\n",
       "      <td>145efda8-9a47-4ea3-bfc8-6701e0989e0a</td>\n",
       "      <td>3992.503047</td>\n",
       "      <td>LINESTRING (-13312966.278 4347816.900, -133129...</td>\n",
       "    </tr>\n",
       "    <tr>\n",
       "      <th>3431</th>\n",
       "      <td>3432</td>\n",
       "      <td>PG&amp;E 115kV</td>\n",
       "      <td>115</td>\n",
       "      <td>115.0</td>\n",
       "      <td>PG&amp;E</td>\n",
       "      <td>Proposed</td>\n",
       "      <td>Single</td>\n",
       "      <td>OH</td>\n",
       "      <td>PG&amp;E_115kV</td>\n",
       "      <td>2.0</td>\n",
       "      <td>...</td>\n",
       "      <td>None</td>\n",
       "      <td>http://www.fs.fed.us/r5/eldorado/</td>\n",
       "      <td>None</td>\n",
       "      <td>FTHONG</td>\n",
       "      <td>2011-04-13</td>\n",
       "      <td>SVC_AGIS_SQLADM</td>\n",
       "      <td>2016-04-25</td>\n",
       "      <td>a2f7c6fa-e875-4dbc-9b6c-a1b0e1eeb56e</td>\n",
       "      <td>4495.769360</td>\n",
       "      <td>LINESTRING (-13382653.317 4650077.083, -133826...</td>\n",
       "    </tr>\n",
       "    <tr>\n",
       "      <th>3480</th>\n",
       "      <td>3481</td>\n",
       "      <td>PG&amp;E 230kV</td>\n",
       "      <td>230</td>\n",
       "      <td>230.0</td>\n",
       "      <td>PG&amp;E</td>\n",
       "      <td>Proposed</td>\n",
       "      <td>Single</td>\n",
       "      <td>OH</td>\n",
       "      <td>PG&amp;E_230kV</td>\n",
       "      <td>26.0</td>\n",
       "      <td>...</td>\n",
       "      <td>None</td>\n",
       "      <td>Digital Globe</td>\n",
       "      <td>None</td>\n",
       "      <td>FTHONG</td>\n",
       "      <td>2015-09-16</td>\n",
       "      <td>SVC_AGIS_SQLADM</td>\n",
       "      <td>2016-04-25</td>\n",
       "      <td>dbea6d99-4fa5-4e98-a70e-9213bc744028</td>\n",
       "      <td>117362.663466</td>\n",
       "      <td>MULTILINESTRING ((-13349164.699 4418463.330, -...</td>\n",
       "    </tr>\n",
       "    <tr>\n",
       "      <th>3614</th>\n",
       "      <td>3615</td>\n",
       "      <td>SCE 500kV</td>\n",
       "      <td>500</td>\n",
       "      <td>500.0</td>\n",
       "      <td>SCE</td>\n",
       "      <td>Proposed</td>\n",
       "      <td>Double</td>\n",
       "      <td>UG</td>\n",
       "      <td>SCE_500kV</td>\n",
       "      <td>7.0</td>\n",
       "      <td>...</td>\n",
       "      <td>None</td>\n",
       "      <td>ASPEN</td>\n",
       "      <td>None</td>\n",
       "      <td>DWHITEHORN</td>\n",
       "      <td>2009-01-23</td>\n",
       "      <td>SVC_AGIS_SQLADM</td>\n",
       "      <td>2016-04-25</td>\n",
       "      <td>7f5b75e3-5ca9-4fc0-8eef-27bae6d6d1ac</td>\n",
       "      <td>12618.278069</td>\n",
       "      <td>LINESTRING (-13099768.396 4028573.778, -130996...</td>\n",
       "    </tr>\n",
       "    <tr>\n",
       "      <th>5685</th>\n",
       "      <td>5686</td>\n",
       "      <td>SCE 115kV</td>\n",
       "      <td>115</td>\n",
       "      <td>115.0</td>\n",
       "      <td>SCE</td>\n",
       "      <td>Proposed</td>\n",
       "      <td>Single</td>\n",
       "      <td>OH</td>\n",
       "      <td>SCE_115_161kV</td>\n",
       "      <td>3.0</td>\n",
       "      <td>...</td>\n",
       "      <td>None</td>\n",
       "      <td>CPUC</td>\n",
       "      <td>None</td>\n",
       "      <td>FTHONG</td>\n",
       "      <td>2012-07-30</td>\n",
       "      <td>SVC_AGIS_SQLADM</td>\n",
       "      <td>2016-04-25</td>\n",
       "      <td>45ff75ae-0556-44ab-8515-afc778065feb</td>\n",
       "      <td>6163.639838</td>\n",
       "      <td>LINESTRING (-13041771.434 4006072.605, -130405...</td>\n",
       "    </tr>\n",
       "    <tr>\n",
       "      <th>5694</th>\n",
       "      <td>5695</td>\n",
       "      <td>SCE 500kV</td>\n",
       "      <td>500</td>\n",
       "      <td>500.0</td>\n",
       "      <td>SCE</td>\n",
       "      <td>Proposed</td>\n",
       "      <td>Single</td>\n",
       "      <td>OH</td>\n",
       "      <td>SCE_500kV</td>\n",
       "      <td>1.0</td>\n",
       "      <td>...</td>\n",
       "      <td>None</td>\n",
       "      <td>SCE</td>\n",
       "      <td>None</td>\n",
       "      <td>FTHONG</td>\n",
       "      <td>2012-08-21</td>\n",
       "      <td>SVC_AGIS_SQLADM</td>\n",
       "      <td>2016-04-25</td>\n",
       "      <td>c4934860-d2aa-46d6-859d-7de59643c07c</td>\n",
       "      <td>2506.644063</td>\n",
       "      <td>LINESTRING (-12781257.843 3972287.647, -127814...</td>\n",
       "    </tr>\n",
       "    <tr>\n",
       "      <th>5725</th>\n",
       "      <td>5726</td>\n",
       "      <td>SCE 500kV</td>\n",
       "      <td>500</td>\n",
       "      <td>500.0</td>\n",
       "      <td>SCE</td>\n",
       "      <td>Proposed</td>\n",
       "      <td>Single</td>\n",
       "      <td>OH</td>\n",
       "      <td>SCE_500kV</td>\n",
       "      <td>1.0</td>\n",
       "      <td>...</td>\n",
       "      <td>None</td>\n",
       "      <td>SCE</td>\n",
       "      <td>To be rectified when the project is up</td>\n",
       "      <td>FTHONG</td>\n",
       "      <td>2013-11-12</td>\n",
       "      <td>SVC_AGIS_SQLADM</td>\n",
       "      <td>2016-04-25</td>\n",
       "      <td>03435bb7-a2e4-4b49-b6f2-b101aef82a74</td>\n",
       "      <td>2384.717020</td>\n",
       "      <td>LINESTRING (-13070302.148 3993211.223, -130685...</td>\n",
       "    </tr>\n",
       "    <tr>\n",
       "      <th>5726</th>\n",
       "      <td>5727</td>\n",
       "      <td>SCE 500kV</td>\n",
       "      <td>500</td>\n",
       "      <td>500.0</td>\n",
       "      <td>SCE</td>\n",
       "      <td>Proposed</td>\n",
       "      <td>Single</td>\n",
       "      <td>OH</td>\n",
       "      <td>SCE_500kV</td>\n",
       "      <td>1.0</td>\n",
       "      <td>...</td>\n",
       "      <td>None</td>\n",
       "      <td>SCE</td>\n",
       "      <td>To be rectified when the project is up</td>\n",
       "      <td>FTHONG</td>\n",
       "      <td>2013-11-12</td>\n",
       "      <td>SVC_AGIS_SQLADM</td>\n",
       "      <td>2016-04-25</td>\n",
       "      <td>eb0395f1-e892-4c46-a2ae-ec6eec5f64c5</td>\n",
       "      <td>2455.108536</td>\n",
       "      <td>LINESTRING (-13070302.148 3993211.223, -130681...</td>\n",
       "    </tr>\n",
       "  </tbody>\n",
       "</table>\n",
       "<p>14 rows × 25 columns</p>\n",
       "</div>"
      ],
      "text/plain": [
       "      OBJECTID         Name    kV  kV_Sort  Owner    Status Circuit Type  \\\n",
       "104        105    ESJ 250kV   250    250.0    ESJ  Proposed  Single   OH   \n",
       "105        106    ESJ 500kV   500    500.0    ESJ  Proposed  Single   OH   \n",
       "294        295   KMPUD 34.5  34.5     34.5  KMPUD  Proposed  Single   OH   \n",
       "398        399  LADWP 230kV   230    230.0  LADWP  Proposed  Single   OH   \n",
       "399        400  LADWP 230kV   230    230.0  LADWP  Proposed  Single   OH   \n",
       "429        430  LADWP 230kV   230    230.0  LADWP  Proposed  Single   OH   \n",
       "3403      3404    PG&E 66kV    66     66.0   PG&E  Proposed  Single   OH   \n",
       "3431      3432   PG&E 115kV   115    115.0   PG&E  Proposed  Single   OH   \n",
       "3480      3481   PG&E 230kV   230    230.0   PG&E  Proposed  Single   OH   \n",
       "3614      3615    SCE 500kV   500    500.0    SCE  Proposed  Double   UG   \n",
       "5685      5686    SCE 115kV   115    115.0    SCE  Proposed  Single   OH   \n",
       "5694      5695    SCE 500kV   500    500.0    SCE  Proposed  Single   OH   \n",
       "5725      5726    SCE 500kV   500    500.0    SCE  Proposed  Single   OH   \n",
       "5726      5727    SCE 500kV   500    500.0    SCE  Proposed  Single   OH   \n",
       "\n",
       "               Legend  Length_Mil  ... Structur_1  \\\n",
       "104   Other_200_287kV         1.0  ...       None   \n",
       "105   Other_345_500kV         1.0  ...       None   \n",
       "294     Other_33_92kV        26.0  ...       None   \n",
       "398   LADWP_220_287kV         3.0  ...       None   \n",
       "399   LADWP_220_287kV         1.0  ...       None   \n",
       "429   LADWP_220_287kV       236.0  ...       None   \n",
       "3403     PG&E_60_70kV         2.0  ...       None   \n",
       "3431       PG&E_115kV         2.0  ...       None   \n",
       "3480       PG&E_230kV        26.0  ...       None   \n",
       "3614        SCE_500kV         7.0  ...       None   \n",
       "5685    SCE_115_161kV         3.0  ...       None   \n",
       "5694        SCE_500kV         1.0  ...       None   \n",
       "5725        SCE_500kV         1.0  ...       None   \n",
       "5726        SCE_500kV         1.0  ...       None   \n",
       "\n",
       "                                        Source  \\\n",
       "104                                      DUDEK   \n",
       "105                                      DUDEK   \n",
       "294          http://www.fs.fed.us/r5/eldorado/   \n",
       "398                                    CEC AFC   \n",
       "399                                    CEC AFC   \n",
       "429   Digital Globe,  VIRTUAL EARTH BIRD'S EYE   \n",
       "3403                                       SCE   \n",
       "3431         http://www.fs.fed.us/r5/eldorado/   \n",
       "3480                             Digital Globe   \n",
       "3614                                     ASPEN   \n",
       "5685                                      CPUC   \n",
       "5694                                       SCE   \n",
       "5725                                       SCE   \n",
       "5726                                       SCE   \n",
       "\n",
       "                                    Comments     Creator  Creator_Da  \\\n",
       "104              To be operated by fall 2014      FTHONG  2014-06-09   \n",
       "105              To be operated by fall 2014      FTHONG  2014-06-09   \n",
       "294                                     None      FTHONG  2011-04-13   \n",
       "398                                     None      FTHONG  2010-12-15   \n",
       "399                                     None      FTHONG  2010-12-15   \n",
       "429                                     None      FTHONG  2015-09-16   \n",
       "3403                                    None      FTHONG  2011-01-11   \n",
       "3431                                    None      FTHONG  2011-04-13   \n",
       "3480                                    None      FTHONG  2015-09-16   \n",
       "3614                                    None  DWHITEHORN  2009-01-23   \n",
       "5685                                    None      FTHONG  2012-07-30   \n",
       "5694                                    None      FTHONG  2012-08-21   \n",
       "5725  To be rectified when the project is up      FTHONG  2013-11-12   \n",
       "5726  To be rectified when the project is up      FTHONG  2013-11-12   \n",
       "\n",
       "           Last_Edito  Last_Edi_1                              GlobalID  \\\n",
       "104   SVC_AGIS_SQLADM  2016-04-25  1d187fe9-0e0f-4eea-a808-0c936f9189ad   \n",
       "105   SVC_AGIS_SQLADM  2016-04-25  32a2a0a7-f1ea-4289-bacb-0d7f2f8393b4   \n",
       "294   SVC_AGIS_SQLADM  2016-04-25  5586545a-acfe-4487-8011-61a7106871d6   \n",
       "398   SVC_AGIS_SQLADM  2016-04-25  de12b0fa-f4d8-496b-9a30-be951adec452   \n",
       "399   SVC_AGIS_SQLADM  2016-04-25  424be83e-2446-496b-a47d-9771212ab3ee   \n",
       "429   SVC_AGIS_SQLADM  2016-04-25  d48c39f9-ae31-4252-b924-4dc137a71323   \n",
       "3403  SVC_AGIS_SQLADM  2016-04-25  145efda8-9a47-4ea3-bfc8-6701e0989e0a   \n",
       "3431  SVC_AGIS_SQLADM  2016-04-25  a2f7c6fa-e875-4dbc-9b6c-a1b0e1eeb56e   \n",
       "3480  SVC_AGIS_SQLADM  2016-04-25  dbea6d99-4fa5-4e98-a70e-9213bc744028   \n",
       "3614  SVC_AGIS_SQLADM  2016-04-25  7f5b75e3-5ca9-4fc0-8eef-27bae6d6d1ac   \n",
       "5685  SVC_AGIS_SQLADM  2016-04-25  45ff75ae-0556-44ab-8515-afc778065feb   \n",
       "5694  SVC_AGIS_SQLADM  2016-04-25  c4934860-d2aa-46d6-859d-7de59643c07c   \n",
       "5725  SVC_AGIS_SQLADM  2016-04-25  03435bb7-a2e4-4b49-b6f2-b101aef82a74   \n",
       "5726  SVC_AGIS_SQLADM  2016-04-25  eb0395f1-e892-4c46-a2ae-ec6eec5f64c5   \n",
       "\n",
       "         Shape__Len                                           geometry  \n",
       "104     2612.423122  LINESTRING (-12926715.053 3845826.211, -129261...  \n",
       "105     1190.078610  LINESTRING (-12926557.168 3845792.221, -129262...  \n",
       "294    53860.923428  LINESTRING (-13383861.304 4653984.255, -133840...  \n",
       "398     6172.364975  LINESTRING (-13141531.549 4196934.238, -131406...  \n",
       "399     2196.234675  LINESTRING (-13140976.994 4198182.894, -131397...  \n",
       "429     7823.036043  LINESTRING (-13193057.154 4087862.826, -131926...  \n",
       "3403    3992.503047  LINESTRING (-13312966.278 4347816.900, -133129...  \n",
       "3431    4495.769360  LINESTRING (-13382653.317 4650077.083, -133826...  \n",
       "3480  117362.663466  MULTILINESTRING ((-13349164.699 4418463.330, -...  \n",
       "3614   12618.278069  LINESTRING (-13099768.396 4028573.778, -130996...  \n",
       "5685    6163.639838  LINESTRING (-13041771.434 4006072.605, -130405...  \n",
       "5694    2506.644063  LINESTRING (-12781257.843 3972287.647, -127814...  \n",
       "5725    2384.717020  LINESTRING (-13070302.148 3993211.223, -130685...  \n",
       "5726    2455.108536  LINESTRING (-13070302.148 3993211.223, -130681...  \n",
       "\n",
       "[14 rows x 25 columns]"
      ]
     },
     "execution_count": 13,
     "metadata": {},
     "output_type": "execute_result"
    }
   ],
   "source": [
    "transmission.query(\"Status == 'Proposed'\")"
   ]
  },
  {
   "cell_type": "markdown",
   "id": "181222f0-f728-42b2-aa7b-09556bd2a645",
   "metadata": {},
   "source": [
    "The query command returned a table of 14 rows, showing all of the transmission lines in the dataset that have a proposed status.  This is a good way to sort data based on one characteristic, and I can see how it could be applicable in the future."
   ]
  },
  {
   "cell_type": "code",
   "execution_count": 14,
   "id": "eb6583a7-e5d4-4ade-82df-4ab09e5b2f9d",
   "metadata": {},
   "outputs": [
    {
     "data": {
      "text/plain": [
       "0       LINESTRING (-13608018.951 4547326.915, -136080...\n",
       "1       LINESTRING (-13608044.414 4547272.768, -136080...\n",
       "2       LINESTRING (-13613422.397 4548276.164, -136134...\n",
       "3       LINESTRING (-13613131.635 4549619.954, -136131...\n",
       "4       LINESTRING (-12994452.454 3989231.906, -129944...\n",
       "                              ...                        \n",
       "6845    LINESTRING (-13456075.142 4520286.452, -134542...\n",
       "6846    LINESTRING (-13454234.007 4520285.893, -134537...\n",
       "6847    LINESTRING (-13452614.507 4522349.589, -134526...\n",
       "6848    LINESTRING (-13430994.121 4555638.691, -134309...\n",
       "6849    LINESTRING (-13452614.507 4522349.589, -134526...\n",
       "Name: geometry, Length: 6850, dtype: geometry"
      ]
     },
     "execution_count": 14,
     "metadata": {},
     "output_type": "execute_result"
    }
   ],
   "source": [
    "transmission.geometry"
   ]
  },
  {
   "cell_type": "markdown",
   "id": "251d85e6-3373-4d0f-9742-7931ae4ef096",
   "metadata": {},
   "source": [
    "I decided to run the geometry command to see the data about where the lines are located.  The return was interesting because it says that the geometry in the dataset is linestrings.  This makes sense because the transmission lines are lines, not points, but I still found it interesting to see how this is represented in the dataset."
   ]
  },
  {
   "cell_type": "markdown",
   "id": "2209331e-1946-423a-adbc-787fa54df99c",
   "metadata": {},
   "source": [
    "I wanted to mess around with the folium mapping options, but I was unable to figure out how to map linestrings using the folium commands.  It has a polyline command, but it doesn't appear to work with linestring format data."
   ]
  },
  {
   "cell_type": "markdown",
   "id": "51694f5d-1c90-4bcd-a478-dd82b4d5e89b",
   "metadata": {},
   "source": [
    "I did, however, find a way to add a basemap to the plot of transmission lines.  Using the contextily library I used the add_basemap command and centered it using the crs (coordinate reference system) of the transmission dataset."
   ]
  },
  {
   "cell_type": "code",
   "execution_count": 19,
   "id": "e9610a8f-af0c-4a77-94b0-0050a6ac751d",
   "metadata": {},
   "outputs": [
    {
     "data": {
      "text/plain": [
       "<Projected CRS: EPSG:3857>\n",
       "Name: WGS 84 / Pseudo-Mercator\n",
       "Axis Info [cartesian]:\n",
       "- X[east]: Easting (metre)\n",
       "- Y[north]: Northing (metre)\n",
       "Area of Use:\n",
       "- name: World between 85.06°S and 85.06°N.\n",
       "- bounds: (-180.0, -85.06, 180.0, 85.06)\n",
       "Coordinate Operation:\n",
       "- name: Popular Visualisation Pseudo-Mercator\n",
       "- method: Popular Visualisation Pseudo Mercator\n",
       "Datum: World Geodetic System 1984 ensemble\n",
       "- Ellipsoid: WGS 84\n",
       "- Prime Meridian: Greenwich"
      ]
     },
     "execution_count": 19,
     "metadata": {},
     "output_type": "execute_result"
    }
   ],
   "source": [
    "transmission.crs"
   ]
  },
  {
   "cell_type": "code",
   "execution_count": 20,
   "id": "3cbdc48b-f396-4994-bba6-8ec2ca0d02ad",
   "metadata": {},
   "outputs": [],
   "source": [
    "import contextily as cx"
   ]
  },
  {
   "cell_type": "code",
   "execution_count": 21,
   "id": "8b700493-1a1c-47a3-8126-892f4bfa3b50",
   "metadata": {},
   "outputs": [
    {
     "data": {
      "image/png": "[encoded data removed]",
      "text/plain": [
       "<Figure size 432x288 with 1 Axes>"
      ]
     },
     "metadata": {
      "needs_background": "light"
     },
     "output_type": "display_data"
    }
   ],
   "source": [
    "map = transmission.plot()\n",
    "cx.add_basemap(map, crs=transmission.crs)"
   ]
  },
  {
   "cell_type": "markdown",
   "id": "3cad3b0b-9f04-47ec-90d6-0cb638329ce4",
   "metadata": {},
   "source": [
    "As you can see above, this returns a plot of the transmission lines presented on a map showing California."
   ]
  }
 ],
 "metadata": {
  "kernelspec": {
   "display_name": "Python 3 (ipykernel)",
   "language": "python",
   "name": "python3"
  },
  "language_info": {
   "codemirror_mode": {
    "name": "ipython",
    "version": 3
   },
   "file_extension": ".py",
   "mimetype": "text/x-python",
   "name": "python",
   "nbconvert_exporter": "python",
   "pygments_lexer": "ipython3",
   "version": "3.9.6"
  }
 },
 "nbformat": 4,
 "nbformat_minor": 5
}
